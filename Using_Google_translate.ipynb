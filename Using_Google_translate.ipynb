{
  "nbformat": 4,
  "nbformat_minor": 0,
  "metadata": {
    "colab": {
      "provenance": []
    },
    "kernelspec": {
      "name": "python3",
      "display_name": "Python 3"
    },
    "language_info": {
      "name": "python"
    }
  },
  "cells": [
    {
      "cell_type": "code",
      "execution_count": null,
      "metadata": {
        "id": "8qNeiQgcR6eE"
      },
      "outputs": [],
      "source": [
        "!pip install googletrans==4.0.0-rc1\n",
        "!pip install PyPDF2\n",
        "!pip install reportlab\n",
        "!pip install googletrans\n",
        "\n",
        "\n",
        "# # First, install the required system packages\n",
        "# !apt-get install poppler-utils\n",
        "# # Next, install the Python package pdf2image\n",
        "# !pip install pdf2image"
      ]
    },
    {
      "cell_type": "code",
      "source": [
        "import PyPDF2\n",
        "import os\n",
        "\n",
        "\n",
        "os.listdir()"
      ],
      "metadata": {
        "id": "sB8FH-7YzU_w",
        "colab": {
          "base_uri": "https://localhost:8080/"
        },
        "outputId": "c55221b3-b366-4982-9543-ef1582a0d6a0"
      },
      "execution_count": 4,
      "outputs": [
        {
          "output_type": "execute_result",
          "data": {
            "text/plain": [
              "['.config', 'Toolkit_CIPAM.pdf', 'sample_data']"
            ]
          },
          "metadata": {},
          "execution_count": 4
        }
      ]
    },
    {
      "cell_type": "markdown",
      "source": [
        "# converting PDF to TEXT"
      ],
      "metadata": {
        "id": "z470sPNkbkbR"
      }
    },
    {
      "cell_type": "code",
      "source": [
        "# Extract text from the copied PDF\n",
        "def extract_text_from_pdf(pdf_path):\n",
        "    text = ''\n",
        "    with open(pdf_path, 'rb') as pdf_file:\n",
        "        pdf_reader = PyPDF2.PdfReader(pdf_file)\n",
        "        for page in pdf_reader.pages:\n",
        "            text += page.extract_text()\n",
        "\n",
        "        # Define the path for the output .txt file\n",
        "    output_txt_path = \"/content/bookletIPR.txt\"\n",
        "\n",
        "    # Write the extracted text to the .txt file with UTF-8 encoding\n",
        "    with open(output_txt_path, 'w', encoding='utf-8') as txt_file:\n",
        "        txt_file.write(text)\n",
        "\n",
        "    return text\n",
        "\n",
        "extracted_text = extract_text_from_pdf(\"/content/bookletIPR.pdf\")\n",
        "\n"
      ],
      "metadata": {
        "id": "ou9Ko1LGSZqv"
      },
      "execution_count": 34,
      "outputs": []
    },
    {
      "cell_type": "markdown",
      "source": [
        "# Converting English to Hindi"
      ],
      "metadata": {
        "id": "wxg9mW6ObsRm"
      }
    },
    {
      "cell_type": "code",
      "source": [
        "from googletrans import Translator\n",
        "\n",
        "# Initialize the translator\n",
        "translator = Translator()\n",
        "\n",
        "# Specify the input text file path (replace with your file path)\n",
        "input_file_path = '/content/bookletIPR.txt'\n",
        "\n",
        "# Specify the output file path (where translated text will be saved)\n",
        "output_file_path = '/content/bookletIPR_converted_output_text.txt'\n",
        "\n",
        "# Open the input file for reading and the output file for writing\n",
        "with open(input_file_path, 'r', encoding='utf-8') as input_file, open(output_file_path, 'w', encoding='utf-8') as output_file:\n",
        "    while True:\n",
        "        # Read a chunk of text from the input file\n",
        "        chunk = input_file.read(5000)  # Adjust the chunk size as needed\n",
        "\n",
        "        # Break the loop if we've reached the end of the file\n",
        "        if not chunk:\n",
        "            break\n",
        "\n",
        "        try:\n",
        "            # Translate the chunk\n",
        "            translated_chunk = translator.translate(chunk, dest='hi').text\n",
        "\n",
        "            # Write the translated chunk to the output file\n",
        "            output_file.write(translated_chunk)\n",
        "        except Exception as e:\n",
        "            print(f\"Translation error: {e}\")\n",
        "            # If the translation fails for a chunk, you can choose to skip it or handle the error differently\n",
        "\n",
        "print(f\"Translation completed. Translated text saved to: {output_file_path}\")\n"
      ],
      "metadata": {
        "colab": {
          "base_uri": "https://localhost:8080/"
        },
        "id": "QRbbOSxFc-Bb",
        "outputId": "f806bca7-4fda-43a3-8e32-57ef11a7399c"
      },
      "execution_count": 36,
      "outputs": [
        {
          "output_type": "stream",
          "name": "stdout",
          "text": [
            "Translation error: sequence item 73: expected str instance, NoneType found\n",
            "Translation completed. Translated text saved to: /content/bookletIPR_converted_output_text.txt\n"
          ]
        }
      ]
    },
    {
      "cell_type": "code",
      "source": [
        "from reportlab.lib.pagesizes import letter\n",
        "from reportlab.platypus import SimpleDocTemplate, Paragraph, Spacer\n",
        "from reportlab.lib.styles import getSampleStyleSheet\n",
        "from reportlab.lib.units import inch\n",
        "from reportlab.pdfbase import pdfmetrics\n",
        "from reportlab.pdfbase.ttfonts import TTFont\n",
        "\n",
        "# Register the custom Hindi font\n",
        "pdfmetrics.registerFont(TTFont('Mangal', '/content/Mangal_Regular.ttf'))\n",
        "\n",
        "# Define the input and output file paths\n",
        "input_text_file = '/content/bookletIPR_converted_output_text.txt'\n",
        "output_pdf_file = '/content/bookletIPR_translated_output.pdf'\n",
        "\n",
        "# Read the text from the input file and clean up extra spaces and empty lines\n",
        "with open(input_text_file, 'r', encoding='utf-8') as file:\n",
        "    lines = file.readlines()\n",
        "    cleaned_lines = [line.strip() for line in lines if line.strip()]  # Remove extra spaces and empty lines\n",
        "    text = '\\n'.join(cleaned_lines)\n",
        "\n",
        "# Create a SimpleDocTemplate with the given output file\n",
        "doc = SimpleDocTemplate(output_pdf_file, pagesize=letter)\n",
        "\n",
        "# Create a list to hold the content\n",
        "story = []\n",
        "\n",
        "# Define a paragraph style with left alignment and the 'Mangal' font\n",
        "styles = getSampleStyleSheet()\n",
        "para_style = styles['Normal']\n",
        "para_style.alignment = 0  # 0 corresponds to 'left' alignment\n",
        "para_style.fontName = 'Mangal'  # Use the 'Mangal' font\n",
        "para_style.leading = 14  # Adjust the leading property to control line spacing\n",
        "\n",
        "# Split the text into lines to fit the page width\n",
        "text_lines = text.split('\\n')\n",
        "\n",
        "# Add each line as a Paragraph with custom line spacing\n",
        "for line in text_lines:\n",
        "    para = Paragraph(line, para_style)\n",
        "    story.append(para)\n",
        "\n",
        "# Build the PDF document\n",
        "doc.build(story)\n",
        "\n",
        "print(f\"PDF created: {output_pdf_file}\")\n"
      ],
      "metadata": {
        "colab": {
          "base_uri": "https://localhost:8080/"
        },
        "id": "6Z-4STSwZWec",
        "outputId": "465290d5-9f9d-4c17-cffc-ff3262601b3d"
      },
      "execution_count": 38,
      "outputs": [
        {
          "output_type": "stream",
          "name": "stdout",
          "text": [
            "PDF created: /content/bookletIPR_translated_output.pdf\n"
          ]
        }
      ]
    }
  ]
}